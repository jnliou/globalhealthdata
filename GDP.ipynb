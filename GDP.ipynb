{
 "cells": [
  {
   "cell_type": "markdown",
   "id": "8d3aa3d3",
   "metadata": {},
   "source": [
    "1. GDP per capita affects the prevalence of medical doctors per region?\n",
    "2. Create a Scatterplot and perform a Line Regression \n",
    "3. GDP Per Capital vs Life Expectancy per region\n",
    "4. Create a Scatterplot and perform a Line Regressin/(other anaylisis)"
   ]
  },
  {
   "cell_type": "code",
   "execution_count": 1,
   "id": "f1646ee6",
   "metadata": {},
   "outputs": [],
   "source": [
    "import pandas as pd\n",
    "import matplotlib.pyplot as plt\n",
    "import scipy.stats as st\n",
    "import numpy as np\n",
    "from scipy import stats\n",
    "from numpy.random import normal\n",
    "import seaborn as sns\n",
    "from scipy.stats import pearsonr\n",
    "from scipy.stats import ttest_ind\n",
    "pd.options.mode.copy_on_write = True\n"
   ]
  },
  {
   "cell_type": "code",
   "execution_count": 2,
   "id": "89b88f8a",
   "metadata": {},
   "outputs": [
    {
     "data": {
      "text/plain": [
       "Country                                  0\n",
       "GDP                                      0\n",
       "Per Capita                               0\n",
       "DPT Immunization                         0\n",
       "HepB3 Immunization                       0\n",
       "Measles Immunization                     0\n",
       "Hospital beds                            0\n",
       "Basic sanitation services                0\n",
       "Urban population                         0\n",
       "Rural population                         0\n",
       "Population, female (percent of total)    0\n",
       "Medical doctors (number)                 0\n",
       "Life expectancy total population         0\n",
       "dtype: int64"
      ]
     },
     "execution_count": 2,
     "metadata": {},
     "output_type": "execute_result"
    }
   ],
   "source": [
    "#open require dataframe\n",
    "path = 'Data/totalavgfilter.csv'\n",
    "country_doctors_total_avg_filtered = pd.read_csv(path)\n",
    "country_doctors_total_avg_filtered.isnull().sum()\n"
   ]
  },
  {
   "cell_type": "code",
   "execution_count": 3,
   "id": "4c0376e3",
   "metadata": {
    "scrolled": true
   },
   "outputs": [
    {
     "data": {
      "text/html": [
       "<div>\n",
       "<style scoped>\n",
       "    .dataframe tbody tr th:only-of-type {\n",
       "        vertical-align: middle;\n",
       "    }\n",
       "\n",
       "    .dataframe tbody tr th {\n",
       "        vertical-align: top;\n",
       "    }\n",
       "\n",
       "    .dataframe thead th {\n",
       "        text-align: right;\n",
       "    }\n",
       "</style>\n",
       "<table border=\"1\" class=\"dataframe\">\n",
       "  <thead>\n",
       "    <tr style=\"text-align: right;\">\n",
       "      <th></th>\n",
       "      <th>Country</th>\n",
       "      <th>GDP</th>\n",
       "      <th>Per Capita</th>\n",
       "      <th>DPT Immunization</th>\n",
       "      <th>HepB3 Immunization</th>\n",
       "      <th>Measles Immunization</th>\n",
       "      <th>Hospital beds</th>\n",
       "      <th>Basic sanitation services</th>\n",
       "      <th>Urban population</th>\n",
       "      <th>Rural population</th>\n",
       "      <th>Population, female (percent of total)</th>\n",
       "      <th>Medical doctors (number)</th>\n",
       "      <th>Life Expectancy</th>\n",
       "    </tr>\n",
       "  </thead>\n",
       "  <tbody>\n",
       "    <tr>\n",
       "      <th>0</th>\n",
       "      <td>Afghanistan</td>\n",
       "      <td>1.857138e+10</td>\n",
       "      <td>512.909526</td>\n",
       "      <td>65.8</td>\n",
       "      <td>65.8</td>\n",
       "      <td>63.8</td>\n",
       "      <td>0.450889</td>\n",
       "      <td>45.802640</td>\n",
       "      <td>25.2644</td>\n",
       "      <td>74.7356</td>\n",
       "      <td>49.429954</td>\n",
       "      <td>9500.4</td>\n",
       "      <td>64.149149</td>\n",
       "    </tr>\n",
       "    <tr>\n",
       "      <th>1</th>\n",
       "      <td>Albania</td>\n",
       "      <td>1.336488e+10</td>\n",
       "      <td>4658.240106</td>\n",
       "      <td>98.8</td>\n",
       "      <td>98.8</td>\n",
       "      <td>95.6</td>\n",
       "      <td>3.052308</td>\n",
       "      <td>98.493376</td>\n",
       "      <td>59.3572</td>\n",
       "      <td>40.6428</td>\n",
       "      <td>49.884581</td>\n",
       "      <td>4826.0</td>\n",
       "      <td>78.355262</td>\n",
       "    </tr>\n",
       "    <tr>\n",
       "      <th>2</th>\n",
       "      <td>Algeria</td>\n",
       "      <td>1.685577e+11</td>\n",
       "      <td>4073.145408</td>\n",
       "      <td>91.8</td>\n",
       "      <td>91.8</td>\n",
       "      <td>87.4</td>\n",
       "      <td>1.820000</td>\n",
       "      <td>86.449686</td>\n",
       "      <td>72.0354</td>\n",
       "      <td>27.9646</td>\n",
       "      <td>49.045001</td>\n",
       "      <td>73456.5</td>\n",
       "      <td>76.491339</td>\n",
       "    </tr>\n",
       "    <tr>\n",
       "      <th>3</th>\n",
       "      <td>Angola</td>\n",
       "      <td>1.060423e+11</td>\n",
       "      <td>3573.626620</td>\n",
       "      <td>58.8</td>\n",
       "      <td>54.8</td>\n",
       "      <td>47.8</td>\n",
       "      <td>0.800000</td>\n",
       "      <td>49.678755</td>\n",
       "      <td>64.8250</td>\n",
       "      <td>35.1750</td>\n",
       "      <td>50.627161</td>\n",
       "      <td>6496.5</td>\n",
       "      <td>60.446212</td>\n",
       "    </tr>\n",
       "    <tr>\n",
       "      <th>4</th>\n",
       "      <td>Antigua and Barbuda</td>\n",
       "      <td>1.506947e+09</td>\n",
       "      <td>15784.778096</td>\n",
       "      <td>95.2</td>\n",
       "      <td>96.0</td>\n",
       "      <td>93.4</td>\n",
       "      <td>2.934250</td>\n",
       "      <td>86.711731</td>\n",
       "      <td>24.7328</td>\n",
       "      <td>75.2672</td>\n",
       "      <td>52.309463</td>\n",
       "      <td>264.0</td>\n",
       "      <td>76.772637</td>\n",
       "    </tr>\n",
       "  </tbody>\n",
       "</table>\n",
       "</div>"
      ],
      "text/plain": [
       "               Country           GDP    Per Capita  DPT Immunization  \\\n",
       "0          Afghanistan  1.857138e+10    512.909526              65.8   \n",
       "1              Albania  1.336488e+10   4658.240106              98.8   \n",
       "2              Algeria  1.685577e+11   4073.145408              91.8   \n",
       "3               Angola  1.060423e+11   3573.626620              58.8   \n",
       "4  Antigua and Barbuda  1.506947e+09  15784.778096              95.2   \n",
       "\n",
       "   HepB3 Immunization  Measles Immunization  Hospital beds  \\\n",
       "0                65.8                  63.8       0.450889   \n",
       "1                98.8                  95.6       3.052308   \n",
       "2                91.8                  87.4       1.820000   \n",
       "3                54.8                  47.8       0.800000   \n",
       "4                96.0                  93.4       2.934250   \n",
       "\n",
       "   Basic sanitation services  Urban population  Rural population  \\\n",
       "0                  45.802640           25.2644           74.7356   \n",
       "1                  98.493376           59.3572           40.6428   \n",
       "2                  86.449686           72.0354           27.9646   \n",
       "3                  49.678755           64.8250           35.1750   \n",
       "4                  86.711731           24.7328           75.2672   \n",
       "\n",
       "   Population, female (percent of total)  Medical doctors (number)  \\\n",
       "0                              49.429954                    9500.4   \n",
       "1                              49.884581                    4826.0   \n",
       "2                              49.045001                   73456.5   \n",
       "3                              50.627161                    6496.5   \n",
       "4                              52.309463                     264.0   \n",
       "\n",
       "   Life Expectancy  \n",
       "0        64.149149  \n",
       "1        78.355262  \n",
       "2        76.491339  \n",
       "3        60.446212  \n",
       "4        76.772637  "
      ]
     },
     "execution_count": 3,
     "metadata": {},
     "output_type": "execute_result"
    }
   ],
   "source": [
    "country_doctors_total_avg_filtered\n",
    "country_doctors_total_avg_filtered = country_doctors_total_avg_filtered.rename(columns={'Life expectancy total population':'Life Expectancy'})\n",
    "country_doctors_total_avg_filtered.head()"
   ]
  },
  {
   "cell_type": "code",
   "execution_count": 4,
   "id": "03d242b2",
   "metadata": {},
   "outputs": [],
   "source": [
    "wrd_pop_path = 'Data/World-population-by-countries-dataset.csv'\n",
    "pop_data = pd.read_csv(wrd_pop_path)"
   ]
  },
  {
   "cell_type": "code",
   "execution_count": 5,
   "id": "8154afa8",
   "metadata": {
    "scrolled": true
   },
   "outputs": [
    {
     "data": {
      "text/plain": [
       "Country Name    0\n",
       "Country Code    0\n",
       "1960            2\n",
       "1961            2\n",
       "1962            2\n",
       "               ..\n",
       "2017            2\n",
       "2018            2\n",
       "2019            2\n",
       "2020            2\n",
       "2021            2\n",
       "Length: 64, dtype: int64"
      ]
     },
     "execution_count": 5,
     "metadata": {},
     "output_type": "execute_result"
    }
   ],
   "source": [
    "pop_data.isnull().sum()"
   ]
  },
  {
   "cell_type": "code",
   "execution_count": 6,
   "id": "dca60110",
   "metadata": {},
   "outputs": [
    {
     "data": {
      "text/plain": [
       "Country Name    0\n",
       "2015            0\n",
       "2016            0\n",
       "2017            0\n",
       "2018            0\n",
       "2019            0\n",
       "dtype: int64"
      ]
     },
     "execution_count": 6,
     "metadata": {},
     "output_type": "execute_result"
    }
   ],
   "source": [
    "#clean data, remain only year 2015-2019 data set\n",
    "pop_5yr = pop_data[['Country Name','2015','2016','2017','2018','2019']]\n",
    "\n",
    "pop_5yr = pop_5yr.dropna(axis=0, subset=['2015'])\n",
    "pop_5yr.isnull().sum()"
   ]
  },
  {
   "cell_type": "code",
   "execution_count": 7,
   "id": "a56db6a8",
   "metadata": {},
   "outputs": [
    {
     "data": {
      "text/html": [
       "<div>\n",
       "<style scoped>\n",
       "    .dataframe tbody tr th:only-of-type {\n",
       "        vertical-align: middle;\n",
       "    }\n",
       "\n",
       "    .dataframe tbody tr th {\n",
       "        vertical-align: top;\n",
       "    }\n",
       "\n",
       "    .dataframe thead th {\n",
       "        text-align: right;\n",
       "    }\n",
       "</style>\n",
       "<table border=\"1\" class=\"dataframe\">\n",
       "  <thead>\n",
       "    <tr style=\"text-align: right;\">\n",
       "      <th></th>\n",
       "      <th>Country Name</th>\n",
       "      <th>2015</th>\n",
       "      <th>2016</th>\n",
       "      <th>2017</th>\n",
       "      <th>2018</th>\n",
       "      <th>2019</th>\n",
       "    </tr>\n",
       "  </thead>\n",
       "  <tbody>\n",
       "    <tr>\n",
       "      <th>0</th>\n",
       "      <td>Aruba</td>\n",
       "      <td>104339.0</td>\n",
       "      <td>104865.0</td>\n",
       "      <td>105361.0</td>\n",
       "      <td>105846.0</td>\n",
       "      <td>106310.0</td>\n",
       "    </tr>\n",
       "    <tr>\n",
       "      <th>1</th>\n",
       "      <td>Africa Eastern and Southern</td>\n",
       "      <td>593871847.0</td>\n",
       "      <td>609978946.0</td>\n",
       "      <td>626392880.0</td>\n",
       "      <td>643090131.0</td>\n",
       "      <td>660046272.0</td>\n",
       "    </tr>\n",
       "    <tr>\n",
       "      <th>2</th>\n",
       "      <td>Afghanistan</td>\n",
       "      <td>34413603.0</td>\n",
       "      <td>35383028.0</td>\n",
       "      <td>36296111.0</td>\n",
       "      <td>37171922.0</td>\n",
       "      <td>38041757.0</td>\n",
       "    </tr>\n",
       "    <tr>\n",
       "      <th>3</th>\n",
       "      <td>Africa Western and Central</td>\n",
       "      <td>401586651.0</td>\n",
       "      <td>412551299.0</td>\n",
       "      <td>423769930.0</td>\n",
       "      <td>435229381.0</td>\n",
       "      <td>446911598.0</td>\n",
       "    </tr>\n",
       "    <tr>\n",
       "      <th>4</th>\n",
       "      <td>Angola</td>\n",
       "      <td>27884380.0</td>\n",
       "      <td>28842482.0</td>\n",
       "      <td>29816769.0</td>\n",
       "      <td>30809787.0</td>\n",
       "      <td>31825299.0</td>\n",
       "    </tr>\n",
       "    <tr>\n",
       "      <th>...</th>\n",
       "      <td>...</td>\n",
       "      <td>...</td>\n",
       "      <td>...</td>\n",
       "      <td>...</td>\n",
       "      <td>...</td>\n",
       "      <td>...</td>\n",
       "    </tr>\n",
       "    <tr>\n",
       "      <th>261</th>\n",
       "      <td>Kosovo</td>\n",
       "      <td>1788196.0</td>\n",
       "      <td>1777557.0</td>\n",
       "      <td>1791003.0</td>\n",
       "      <td>1797085.0</td>\n",
       "      <td>1788878.0</td>\n",
       "    </tr>\n",
       "    <tr>\n",
       "      <th>262</th>\n",
       "      <td>Yemen, Rep.</td>\n",
       "      <td>26497881.0</td>\n",
       "      <td>27168210.0</td>\n",
       "      <td>27834811.0</td>\n",
       "      <td>28498683.0</td>\n",
       "      <td>29161922.0</td>\n",
       "    </tr>\n",
       "    <tr>\n",
       "      <th>263</th>\n",
       "      <td>South Africa</td>\n",
       "      <td>55386369.0</td>\n",
       "      <td>56207649.0</td>\n",
       "      <td>57009751.0</td>\n",
       "      <td>57792520.0</td>\n",
       "      <td>58558267.0</td>\n",
       "    </tr>\n",
       "    <tr>\n",
       "      <th>264</th>\n",
       "      <td>Zambia</td>\n",
       "      <td>15879370.0</td>\n",
       "      <td>16363449.0</td>\n",
       "      <td>16853608.0</td>\n",
       "      <td>17351714.0</td>\n",
       "      <td>17861034.0</td>\n",
       "    </tr>\n",
       "    <tr>\n",
       "      <th>265</th>\n",
       "      <td>Zimbabwe</td>\n",
       "      <td>13814642.0</td>\n",
       "      <td>14030338.0</td>\n",
       "      <td>14236599.0</td>\n",
       "      <td>14438812.0</td>\n",
       "      <td>14645473.0</td>\n",
       "    </tr>\n",
       "  </tbody>\n",
       "</table>\n",
       "<p>264 rows × 6 columns</p>\n",
       "</div>"
      ],
      "text/plain": [
       "                    Country Name         2015         2016         2017  \\\n",
       "0                          Aruba     104339.0     104865.0     105361.0   \n",
       "1    Africa Eastern and Southern  593871847.0  609978946.0  626392880.0   \n",
       "2                    Afghanistan   34413603.0   35383028.0   36296111.0   \n",
       "3     Africa Western and Central  401586651.0  412551299.0  423769930.0   \n",
       "4                         Angola   27884380.0   28842482.0   29816769.0   \n",
       "..                           ...          ...          ...          ...   \n",
       "261                       Kosovo    1788196.0    1777557.0    1791003.0   \n",
       "262                  Yemen, Rep.   26497881.0   27168210.0   27834811.0   \n",
       "263                 South Africa   55386369.0   56207649.0   57009751.0   \n",
       "264                       Zambia   15879370.0   16363449.0   16853608.0   \n",
       "265                     Zimbabwe   13814642.0   14030338.0   14236599.0   \n",
       "\n",
       "            2018         2019  \n",
       "0       105846.0     106310.0  \n",
       "1    643090131.0  660046272.0  \n",
       "2     37171922.0   38041757.0  \n",
       "3    435229381.0  446911598.0  \n",
       "4     30809787.0   31825299.0  \n",
       "..           ...          ...  \n",
       "261    1797085.0    1788878.0  \n",
       "262   28498683.0   29161922.0  \n",
       "263   57792520.0   58558267.0  \n",
       "264   17351714.0   17861034.0  \n",
       "265   14438812.0   14645473.0  \n",
       "\n",
       "[264 rows x 6 columns]"
      ]
     },
     "execution_count": 7,
     "metadata": {},
     "output_type": "execute_result"
    }
   ],
   "source": [
    "pop_5yr"
   ]
  },
  {
   "cell_type": "code",
   "execution_count": 8,
   "id": "e97677d7",
   "metadata": {},
   "outputs": [
    {
     "data": {
      "text/plain": [
       "(264, 2)"
      ]
     },
     "execution_count": 8,
     "metadata": {},
     "output_type": "execute_result"
    }
   ],
   "source": [
    "#find average population, merge data\n",
    "#in the main country_doctors_total_avg_filtered\n",
    "\n",
    "pop_5yr = pop_5yr.rename(columns={'Country Name':'Country'})\n",
    "pop_5yr['Average Population'] = pop_5yr[['2015','2016','2017','2018','2019']].mean(axis=1)\n",
    "pop_5yr['Average Population'] = pop_5yr['Average Population'].fillna(pop_5yr['Average Population'].median())\n",
    "pop_5yr = pop_5yr.drop(['2015','2016','2017','2018','2019'],axis=1)\n",
    "\n",
    "pop_5yr.shape"
   ]
  },
  {
   "cell_type": "code",
   "execution_count": 9,
   "id": "7ebb7019",
   "metadata": {
    "scrolled": false
   },
   "outputs": [
    {
     "data": {
      "text/plain": [
       "Country               0\n",
       "Average Population    0\n",
       "dtype: int64"
      ]
     },
     "execution_count": 9,
     "metadata": {},
     "output_type": "execute_result"
    }
   ],
   "source": [
    "pop_5yr.isnull().sum()"
   ]
  },
  {
   "cell_type": "code",
   "execution_count": 10,
   "id": "662d2d9f",
   "metadata": {
    "scrolled": true
   },
   "outputs": [
    {
     "data": {
      "text/plain": [
       "Country                                  0\n",
       "GDP                                      0\n",
       "Per Capita                               0\n",
       "DPT Immunization                         0\n",
       "HepB3 Immunization                       0\n",
       "Measles Immunization                     0\n",
       "Hospital beds                            0\n",
       "Basic sanitation services                0\n",
       "Urban population                         0\n",
       "Rural population                         0\n",
       "Population, female (percent of total)    0\n",
       "Medical doctors (number)                 0\n",
       "Life Expectancy                          0\n",
       "dtype: int64"
      ]
     },
     "execution_count": 10,
     "metadata": {},
     "output_type": "execute_result"
    }
   ],
   "source": [
    "country_doctors_total_avg_filtered.isnull().sum()\n"
   ]
  },
  {
   "cell_type": "code",
   "execution_count": 11,
   "id": "72ffab5a",
   "metadata": {
    "scrolled": false
   },
   "outputs": [
    {
     "data": {
      "text/plain": [
       "Country                                  0\n",
       "GDP                                      0\n",
       "Per Capita                               0\n",
       "DPT Immunization                         0\n",
       "HepB3 Immunization                       0\n",
       "Measles Immunization                     0\n",
       "Hospital beds                            0\n",
       "Basic sanitation services                0\n",
       "Urban population                         0\n",
       "Rural population                         0\n",
       "Population, female (percent of total)    0\n",
       "Medical doctors (number)                 0\n",
       "Life Expectancy                          0\n",
       "Average Population                       2\n",
       "dtype: int64"
      ]
     },
     "execution_count": 11,
     "metadata": {},
     "output_type": "execute_result"
    }
   ],
   "source": [
    "df = country_doctors_total_avg_filtered.merge(pop_5yr,how='left',on='Country')\n",
    "df.isnull().sum()"
   ]
  },
  {
   "cell_type": "code",
   "execution_count": 12,
   "id": "70f6ccb5",
   "metadata": {},
   "outputs": [
    {
     "data": {
      "text/plain": [
       "(148, 14)"
      ]
     },
     "execution_count": 12,
     "metadata": {},
     "output_type": "execute_result"
    }
   ],
   "source": [
    "df = df.dropna(axis=0, subset=['Average Population'])\n",
    "df.shape"
   ]
  },
  {
   "cell_type": "code",
   "execution_count": 13,
   "id": "01fca419",
   "metadata": {
    "scrolled": false
   },
   "outputs": [
    {
     "data": {
      "text/html": [
       "<div>\n",
       "<style scoped>\n",
       "    .dataframe tbody tr th:only-of-type {\n",
       "        vertical-align: middle;\n",
       "    }\n",
       "\n",
       "    .dataframe tbody tr th {\n",
       "        vertical-align: top;\n",
       "    }\n",
       "\n",
       "    .dataframe thead th {\n",
       "        text-align: right;\n",
       "    }\n",
       "</style>\n",
       "<table border=\"1\" class=\"dataframe\">\n",
       "  <thead>\n",
       "    <tr style=\"text-align: right;\">\n",
       "      <th></th>\n",
       "      <th>Country</th>\n",
       "      <th>GDP</th>\n",
       "      <th>Per Capita</th>\n",
       "      <th>DPT Immunization</th>\n",
       "      <th>HepB3 Immunization</th>\n",
       "      <th>Measles Immunization</th>\n",
       "      <th>Hospital beds</th>\n",
       "      <th>Basic sanitation services</th>\n",
       "      <th>Urban population</th>\n",
       "      <th>Rural population</th>\n",
       "      <th>Female Population in percentage</th>\n",
       "      <th>Medical doctors (number)</th>\n",
       "      <th>Life Expectancy</th>\n",
       "      <th>Average Population</th>\n",
       "      <th>Female Polulation</th>\n",
       "      <th>Male Population</th>\n",
       "      <th>Medical Doctor Per Capita</th>\n",
       "      <th>No.Patient Per Doctor</th>\n",
       "    </tr>\n",
       "  </thead>\n",
       "  <tbody>\n",
       "    <tr>\n",
       "      <th>0</th>\n",
       "      <td>Afghanistan</td>\n",
       "      <td>1.857138e+10</td>\n",
       "      <td>512.909526</td>\n",
       "      <td>65.8</td>\n",
       "      <td>65.8</td>\n",
       "      <td>63.8</td>\n",
       "      <td>0.450889</td>\n",
       "      <td>45.802640</td>\n",
       "      <td>25.2644</td>\n",
       "      <td>74.7356</td>\n",
       "      <td>49.429954</td>\n",
       "      <td>9500.4</td>\n",
       "      <td>64.149149</td>\n",
       "      <td>36261284.2</td>\n",
       "      <td>1.792394e+07</td>\n",
       "      <td>1.833735e+07</td>\n",
       "      <td>0.000262</td>\n",
       "      <td>3816.793893</td>\n",
       "    </tr>\n",
       "    <tr>\n",
       "      <th>1</th>\n",
       "      <td>Albania</td>\n",
       "      <td>1.336488e+10</td>\n",
       "      <td>4658.240106</td>\n",
       "      <td>98.8</td>\n",
       "      <td>98.8</td>\n",
       "      <td>95.6</td>\n",
       "      <td>3.052308</td>\n",
       "      <td>98.493376</td>\n",
       "      <td>59.3572</td>\n",
       "      <td>40.6428</td>\n",
       "      <td>49.884581</td>\n",
       "      <td>4826.0</td>\n",
       "      <td>78.355262</td>\n",
       "      <td>2870165.6</td>\n",
       "      <td>1.431770e+06</td>\n",
       "      <td>1.438396e+06</td>\n",
       "      <td>0.001681</td>\n",
       "      <td>594.728328</td>\n",
       "    </tr>\n",
       "    <tr>\n",
       "      <th>2</th>\n",
       "      <td>Algeria</td>\n",
       "      <td>1.685577e+11</td>\n",
       "      <td>4073.145408</td>\n",
       "      <td>91.8</td>\n",
       "      <td>91.8</td>\n",
       "      <td>87.4</td>\n",
       "      <td>1.820000</td>\n",
       "      <td>86.449686</td>\n",
       "      <td>72.0354</td>\n",
       "      <td>27.9646</td>\n",
       "      <td>49.045001</td>\n",
       "      <td>73456.5</td>\n",
       "      <td>76.491339</td>\n",
       "      <td>41390012.2</td>\n",
       "      <td>2.029973e+07</td>\n",
       "      <td>2.109028e+07</td>\n",
       "      <td>0.001775</td>\n",
       "      <td>563.462817</td>\n",
       "    </tr>\n",
       "    <tr>\n",
       "      <th>3</th>\n",
       "      <td>Angola</td>\n",
       "      <td>1.060423e+11</td>\n",
       "      <td>3573.626620</td>\n",
       "      <td>58.8</td>\n",
       "      <td>54.8</td>\n",
       "      <td>47.8</td>\n",
       "      <td>0.800000</td>\n",
       "      <td>49.678755</td>\n",
       "      <td>64.8250</td>\n",
       "      <td>35.1750</td>\n",
       "      <td>50.627161</td>\n",
       "      <td>6496.5</td>\n",
       "      <td>60.446212</td>\n",
       "      <td>29835743.4</td>\n",
       "      <td>1.510499e+07</td>\n",
       "      <td>1.473075e+07</td>\n",
       "      <td>0.000218</td>\n",
       "      <td>4592.633416</td>\n",
       "    </tr>\n",
       "    <tr>\n",
       "      <th>4</th>\n",
       "      <td>Antigua and Barbuda</td>\n",
       "      <td>1.506947e+09</td>\n",
       "      <td>15784.778096</td>\n",
       "      <td>95.2</td>\n",
       "      <td>96.0</td>\n",
       "      <td>93.4</td>\n",
       "      <td>2.934250</td>\n",
       "      <td>86.711731</td>\n",
       "      <td>24.7328</td>\n",
       "      <td>75.2672</td>\n",
       "      <td>52.309463</td>\n",
       "      <td>264.0</td>\n",
       "      <td>76.772637</td>\n",
       "      <td>95382.6</td>\n",
       "      <td>4.989413e+04</td>\n",
       "      <td>4.548847e+04</td>\n",
       "      <td>0.002768</td>\n",
       "      <td>361.297782</td>\n",
       "    </tr>\n",
       "  </tbody>\n",
       "</table>\n",
       "</div>"
      ],
      "text/plain": [
       "               Country           GDP    Per Capita  DPT Immunization  \\\n",
       "0          Afghanistan  1.857138e+10    512.909526              65.8   \n",
       "1              Albania  1.336488e+10   4658.240106              98.8   \n",
       "2              Algeria  1.685577e+11   4073.145408              91.8   \n",
       "3               Angola  1.060423e+11   3573.626620              58.8   \n",
       "4  Antigua and Barbuda  1.506947e+09  15784.778096              95.2   \n",
       "\n",
       "   HepB3 Immunization  Measles Immunization  Hospital beds  \\\n",
       "0                65.8                  63.8       0.450889   \n",
       "1                98.8                  95.6       3.052308   \n",
       "2                91.8                  87.4       1.820000   \n",
       "3                54.8                  47.8       0.800000   \n",
       "4                96.0                  93.4       2.934250   \n",
       "\n",
       "   Basic sanitation services  Urban population  Rural population  \\\n",
       "0                  45.802640           25.2644           74.7356   \n",
       "1                  98.493376           59.3572           40.6428   \n",
       "2                  86.449686           72.0354           27.9646   \n",
       "3                  49.678755           64.8250           35.1750   \n",
       "4                  86.711731           24.7328           75.2672   \n",
       "\n",
       "   Female Population in percentage  Medical doctors (number)  Life Expectancy  \\\n",
       "0                        49.429954                    9500.4        64.149149   \n",
       "1                        49.884581                    4826.0        78.355262   \n",
       "2                        49.045001                   73456.5        76.491339   \n",
       "3                        50.627161                    6496.5        60.446212   \n",
       "4                        52.309463                     264.0        76.772637   \n",
       "\n",
       "   Average Population  Female Polulation  Male Population  \\\n",
       "0          36261284.2       1.792394e+07     1.833735e+07   \n",
       "1           2870165.6       1.431770e+06     1.438396e+06   \n",
       "2          41390012.2       2.029973e+07     2.109028e+07   \n",
       "3          29835743.4       1.510499e+07     1.473075e+07   \n",
       "4             95382.6       4.989413e+04     4.548847e+04   \n",
       "\n",
       "   Medical Doctor Per Capita  No.Patient Per Doctor  \n",
       "0                   0.000262            3816.793893  \n",
       "1                   0.001681             594.728328  \n",
       "2                   0.001775             563.462817  \n",
       "3                   0.000218            4592.633416  \n",
       "4                   0.002768             361.297782  "
      ]
     },
     "execution_count": 13,
     "metadata": {},
     "output_type": "execute_result"
    }
   ],
   "source": [
    "#calculate Male & Female population to the pop_5yr dataframe \n",
    "#find the average medical doctor per capita \n",
    "df = df.rename(columns={'Population, female (percent of total)':'Female Population in percentage'})\n",
    "df[\"Female Polulation\"] = df[\"Female Population in percentage\"] /100 * df[\"Average Population\"]\n",
    "df[\"Male Population\"] = df[\"Average Population\"] - df[\"Female Polulation\"]\n",
    "df[\"Medical Doctor Per Capita\"] = (df['Medical doctors (number)'] / df['Average Population'])\n",
    "df['Medical Doctor Per Capita'] = df['Medical Doctor Per Capita'].apply(lambda x: round(x, 8))\n",
    "df[\"No.Patient Per Doctor\"] = 1 / df[\"Medical Doctor Per Capita\"]\n",
    "df.head()"
   ]
  },
  {
   "cell_type": "code",
   "execution_count": 14,
   "id": "aca150ec",
   "metadata": {
    "scrolled": false
   },
   "outputs": [
    {
     "data": {
      "text/html": [
       "<div>\n",
       "<style scoped>\n",
       "    .dataframe tbody tr th:only-of-type {\n",
       "        vertical-align: middle;\n",
       "    }\n",
       "\n",
       "    .dataframe tbody tr th {\n",
       "        vertical-align: top;\n",
       "    }\n",
       "\n",
       "    .dataframe thead th {\n",
       "        text-align: right;\n",
       "    }\n",
       "</style>\n",
       "<table border=\"1\" class=\"dataframe\">\n",
       "  <thead>\n",
       "    <tr style=\"text-align: right;\">\n",
       "      <th></th>\n",
       "      <th>Country</th>\n",
       "      <th>GDP</th>\n",
       "      <th>Per Capita</th>\n",
       "      <th>Medical doctors (number)</th>\n",
       "      <th>Life Expectancy</th>\n",
       "      <th>Average Population</th>\n",
       "      <th>Female Polulation</th>\n",
       "      <th>Male Population</th>\n",
       "      <th>Medical Doctor Per Capita</th>\n",
       "      <th>No.Patient Per Doctor</th>\n",
       "    </tr>\n",
       "  </thead>\n",
       "  <tbody>\n",
       "    <tr>\n",
       "      <th>24</th>\n",
       "      <td>Burundi</td>\n",
       "      <td>2.777063e+09</td>\n",
       "      <td>257.387657</td>\n",
       "      <td>892.000000</td>\n",
       "      <td>60.875798</td>\n",
       "      <td>10836200.4</td>\n",
       "      <td>5.460094e+06</td>\n",
       "      <td>5.376107e+06</td>\n",
       "      <td>0.000082</td>\n",
       "      <td>12147.716229</td>\n",
       "    </tr>\n",
       "    <tr>\n",
       "      <th>28</th>\n",
       "      <td>Central African Republic</td>\n",
       "      <td>2.006896e+09</td>\n",
       "      <td>434.875413</td>\n",
       "      <td>329.500000</td>\n",
       "      <td>52.170470</td>\n",
       "      <td>4607686.2</td>\n",
       "      <td>2.301317e+06</td>\n",
       "      <td>2.306369e+06</td>\n",
       "      <td>0.000072</td>\n",
       "      <td>13984.058174</td>\n",
       "    </tr>\n",
       "    <tr>\n",
       "      <th>84</th>\n",
       "      <td>Malawi</td>\n",
       "      <td>8.331166e+09</td>\n",
       "      <td>467.790419</td>\n",
       "      <td>1649.500000</td>\n",
       "      <td>63.283140</td>\n",
       "      <td>17678543.0</td>\n",
       "      <td>9.093972e+06</td>\n",
       "      <td>8.584571e+06</td>\n",
       "      <td>0.000093</td>\n",
       "      <td>10716.964956</td>\n",
       "    </tr>\n",
       "    <tr>\n",
       "      <th>95</th>\n",
       "      <td>Mozambique</td>\n",
       "      <td>1.426752e+10</td>\n",
       "      <td>498.032076</td>\n",
       "      <td>2407.666667</td>\n",
       "      <td>59.111772</td>\n",
       "      <td>28676598.0</td>\n",
       "      <td>1.462774e+07</td>\n",
       "      <td>1.404886e+07</td>\n",
       "      <td>0.000084</td>\n",
       "      <td>11910.433540</td>\n",
       "    </tr>\n",
       "    <tr>\n",
       "      <th>83</th>\n",
       "      <td>Madagascar</td>\n",
       "      <td>1.284253e+10</td>\n",
       "      <td>501.083962</td>\n",
       "      <td>5230.000000</td>\n",
       "      <td>66.303041</td>\n",
       "      <td>25586116.0</td>\n",
       "      <td>1.275391e+07</td>\n",
       "      <td>1.283220e+07</td>\n",
       "      <td>0.000204</td>\n",
       "      <td>4892.128565</td>\n",
       "    </tr>\n",
       "  </tbody>\n",
       "</table>\n",
       "</div>"
      ],
      "text/plain": [
       "                     Country           GDP  Per Capita  \\\n",
       "24                   Burundi  2.777063e+09  257.387657   \n",
       "28  Central African Republic  2.006896e+09  434.875413   \n",
       "84                    Malawi  8.331166e+09  467.790419   \n",
       "95                Mozambique  1.426752e+10  498.032076   \n",
       "83                Madagascar  1.284253e+10  501.083962   \n",
       "\n",
       "    Medical doctors (number)  Life Expectancy  Average Population  \\\n",
       "24                892.000000        60.875798          10836200.4   \n",
       "28                329.500000        52.170470           4607686.2   \n",
       "84               1649.500000        63.283140          17678543.0   \n",
       "95               2407.666667        59.111772          28676598.0   \n",
       "83               5230.000000        66.303041          25586116.0   \n",
       "\n",
       "    Female Polulation  Male Population  Medical Doctor Per Capita  \\\n",
       "24       5.460094e+06     5.376107e+06                   0.000082   \n",
       "28       2.301317e+06     2.306369e+06                   0.000072   \n",
       "84       9.093972e+06     8.584571e+06                   0.000093   \n",
       "95       1.462774e+07     1.404886e+07                   0.000084   \n",
       "83       1.275391e+07     1.283220e+07                   0.000204   \n",
       "\n",
       "    No.Patient Per Doctor  \n",
       "24           12147.716229  \n",
       "28           13984.058174  \n",
       "84           10716.964956  \n",
       "95           11910.433540  \n",
       "83            4892.128565  "
      ]
     },
     "execution_count": 14,
     "metadata": {},
     "output_type": "execute_result"
    }
   ],
   "source": [
    "#final_df prepared df.drop(df.columns[[0, 1, 2]],axis = 1)\n",
    "f_df = df.drop(df.columns[[3,4,5,6,7,8,9,10]],axis = 1)\n",
    "f_df = f_df.sort_values(by='Per Capita', ascending=True)\n",
    "\n",
    "f_df.head()"
   ]
  },
  {
   "cell_type": "code",
   "execution_count": 15,
   "id": "cf77511c",
   "metadata": {
    "scrolled": true
   },
   "outputs": [
    {
     "name": "stdout",
     "output_type": "stream",
     "text": [
      "The r value is 0.4091464817691621\n"
     ]
    },
    {
     "data": {
      "image/png": "[encoded data removed]",
      "text/plain": [
       "<Figure size 640x480 with 1 Axes>"
      ]
     },
     "metadata": {},
     "output_type": "display_data"
    }
   ],
   "source": [
    "f_df.plot(x='Per Capita', y='Life Expectancy', kind = 'scatter', \n",
    "           marker='o', color ='c',grid=True)\n",
    "\n",
    "x_values = f_df['Per Capita']\n",
    "y_values = f_df['Life Expectancy']\n",
    "(slope, intercept, rvalue, pvalue, stderr) = stats.linregress(x_values, y_values)\n",
    "regress_values = x_values * slope + intercept\n",
    "line_eq = \"y = \" + str(round(slope,6)) + \"x +\" + str(round(intercept,6))\n",
    "\n",
    "plt.plot(x_values,regress_values,color='r')\n",
    "plt.annotate(line_eq,(40000,55),fontsize=10,color=\"r\")\n",
    "print(f\"The r value is {rvalue**2}\")\n"
   ]
  },
  {
   "cell_type": "code",
   "execution_count": 16,
   "id": "30a73194",
   "metadata": {
    "scrolled": true
   },
   "outputs": [
    {
     "data": {
      "text/plain": [
       "0.639645590752537"
      ]
     },
     "execution_count": 16,
     "metadata": {},
     "output_type": "execute_result"
    }
   ],
   "source": [
    "np.corrcoef(x_values, y_values)[0,1]\n"
   ]
  },
  {
   "cell_type": "code",
   "execution_count": 17,
   "id": "dcc9594e",
   "metadata": {},
   "outputs": [
    {
     "name": "stdout",
     "output_type": "stream",
     "text": [
      "The r value is 0.3028521372456931\n"
     ]
    },
    {
     "data": {
      "image/png": "[encoded data removed]",
      "text/plain": [
       "<Figure size 640x480 with 1 Axes>"
      ]
     },
     "metadata": {},
     "output_type": "display_data"
    }
   ],
   "source": [
    "#GDP per capita affects the prevalence of medical doctors per region\n",
    "\n",
    "f_df.plot(x='Per Capita', y='Medical Doctor Per Capita', kind = 'scatter', \n",
    "           marker='o', color ='c',grid=True)\n",
    "\n",
    "x_values = f_df['Per Capita']\n",
    "y_values = f_df['Medical Doctor Per Capita']\n",
    "(slope, intercept, rvalue, pvalue, stderr) = stats.linregress(x_values, y_values)\n",
    "regress_values = x_values * slope + intercept\n",
    "line_eq = \"y = \" + str(round(slope,6)) + \"x +\" + str(round(intercept,6))\n",
    "\n",
    "plt.plot(x_values,regress_values,color='r')\n",
    "plt.annotate(line_eq,(80000,0.001),fontsize=10,color=\"r\")\n",
    "print(f\"The r value is {rvalue**2}\")"
   ]
  },
  {
   "cell_type": "code",
   "execution_count": 18,
   "id": "5350d85b",
   "metadata": {},
   "outputs": [
    {
     "data": {
      "text/plain": [
       "0.5503200316594818"
      ]
     },
     "execution_count": 18,
     "metadata": {},
     "output_type": "execute_result"
    }
   ],
   "source": [
    "np.corrcoef(x_values, y_values)[0,1]"
   ]
  },
  {
   "cell_type": "code",
   "execution_count": null,
   "id": "55c37b5a",
   "metadata": {},
   "outputs": [],
   "source": []
  },
  {
   "cell_type": "code",
   "execution_count": 19,
   "id": "e9f03bed",
   "metadata": {
    "scrolled": true
   },
   "outputs": [],
   "source": [
    "#get a new df show top 20 and bottom 20 base on GDP per capita\n",
    "top_df = f_df.tail(20)\n",
    "top_df = top_df.sort_values(by='Per Capita', ascending=False)\n",
    "\n"
   ]
  },
  {
   "cell_type": "code",
   "execution_count": 20,
   "id": "157d003b",
   "metadata": {},
   "outputs": [
    {
     "data": {
      "text/plain": [
       "295.2061423901645"
      ]
     },
     "execution_count": 20,
     "metadata": {},
     "output_type": "execute_result"
    }
   ],
   "source": [
    "top_df['No.Patient Per Doctor'].mean()\n"
   ]
  },
  {
   "cell_type": "code",
   "execution_count": 21,
   "id": "072f41a0",
   "metadata": {
    "scrolled": true
   },
   "outputs": [
    {
     "data": {
      "text/html": [
       "<div>\n",
       "<style scoped>\n",
       "    .dataframe tbody tr th:only-of-type {\n",
       "        vertical-align: middle;\n",
       "    }\n",
       "\n",
       "    .dataframe tbody tr th {\n",
       "        vertical-align: top;\n",
       "    }\n",
       "\n",
       "    .dataframe thead th {\n",
       "        text-align: right;\n",
       "    }\n",
       "</style>\n",
       "<table border=\"1\" class=\"dataframe\">\n",
       "  <thead>\n",
       "    <tr style=\"text-align: right;\">\n",
       "      <th></th>\n",
       "      <th>Country</th>\n",
       "      <th>GDP</th>\n",
       "      <th>Per Capita</th>\n",
       "      <th>Medical doctors (number)</th>\n",
       "      <th>Life Expectancy</th>\n",
       "      <th>Average Population</th>\n",
       "      <th>Female Polulation</th>\n",
       "      <th>Male Population</th>\n",
       "      <th>Medical Doctor Per Capita</th>\n",
       "      <th>No.Patient Per Doctor</th>\n",
       "    </tr>\n",
       "  </thead>\n",
       "  <tbody>\n",
       "    <tr>\n",
       "      <th>24</th>\n",
       "      <td>Burundi</td>\n",
       "      <td>2.777063e+09</td>\n",
       "      <td>257.387657</td>\n",
       "      <td>892.000000</td>\n",
       "      <td>60.875798</td>\n",
       "      <td>10836200.4</td>\n",
       "      <td>5.460094e+06</td>\n",
       "      <td>5.376107e+06</td>\n",
       "      <td>0.000082</td>\n",
       "      <td>12147.716229</td>\n",
       "    </tr>\n",
       "    <tr>\n",
       "      <th>28</th>\n",
       "      <td>Central African Republic</td>\n",
       "      <td>2.006896e+09</td>\n",
       "      <td>434.875413</td>\n",
       "      <td>329.500000</td>\n",
       "      <td>52.170470</td>\n",
       "      <td>4607686.2</td>\n",
       "      <td>2.301317e+06</td>\n",
       "      <td>2.306369e+06</td>\n",
       "      <td>0.000072</td>\n",
       "      <td>13984.058174</td>\n",
       "    </tr>\n",
       "    <tr>\n",
       "      <th>84</th>\n",
       "      <td>Malawi</td>\n",
       "      <td>8.331166e+09</td>\n",
       "      <td>467.790419</td>\n",
       "      <td>1649.500000</td>\n",
       "      <td>63.283140</td>\n",
       "      <td>17678543.0</td>\n",
       "      <td>9.093972e+06</td>\n",
       "      <td>8.584571e+06</td>\n",
       "      <td>0.000093</td>\n",
       "      <td>10716.964956</td>\n",
       "    </tr>\n",
       "    <tr>\n",
       "      <th>95</th>\n",
       "      <td>Mozambique</td>\n",
       "      <td>1.426752e+10</td>\n",
       "      <td>498.032076</td>\n",
       "      <td>2407.666667</td>\n",
       "      <td>59.111772</td>\n",
       "      <td>28676598.0</td>\n",
       "      <td>1.462774e+07</td>\n",
       "      <td>1.404886e+07</td>\n",
       "      <td>0.000084</td>\n",
       "      <td>11910.433540</td>\n",
       "    </tr>\n",
       "    <tr>\n",
       "      <th>83</th>\n",
       "      <td>Madagascar</td>\n",
       "      <td>1.284253e+10</td>\n",
       "      <td>501.083962</td>\n",
       "      <td>5230.000000</td>\n",
       "      <td>66.303041</td>\n",
       "      <td>25586116.0</td>\n",
       "      <td>1.275391e+07</td>\n",
       "      <td>1.283220e+07</td>\n",
       "      <td>0.000204</td>\n",
       "      <td>4892.128565</td>\n",
       "    </tr>\n",
       "    <tr>\n",
       "      <th>0</th>\n",
       "      <td>Afghanistan</td>\n",
       "      <td>1.857138e+10</td>\n",
       "      <td>512.909526</td>\n",
       "      <td>9500.400000</td>\n",
       "      <td>64.149149</td>\n",
       "      <td>36261284.2</td>\n",
       "      <td>1.792394e+07</td>\n",
       "      <td>1.833735e+07</td>\n",
       "      <td>0.000262</td>\n",
       "      <td>3816.793893</td>\n",
       "    </tr>\n",
       "    <tr>\n",
       "      <th>102</th>\n",
       "      <td>Niger</td>\n",
       "      <td>1.139859e+10</td>\n",
       "      <td>525.392586</td>\n",
       "      <td>607.800000</td>\n",
       "      <td>61.577659</td>\n",
       "      <td>21629278.0</td>\n",
       "      <td>1.066245e+07</td>\n",
       "      <td>1.096683e+07</td>\n",
       "      <td>0.000028</td>\n",
       "      <td>35587.188612</td>\n",
       "    </tr>\n",
       "    <tr>\n",
       "      <th>125</th>\n",
       "      <td>Sierra Leone</td>\n",
       "      <td>3.954916e+09</td>\n",
       "      <td>528.414539</td>\n",
       "      <td>566.000000</td>\n",
       "      <td>53.833848</td>\n",
       "      <td>7490507.6</td>\n",
       "      <td>3.740042e+06</td>\n",
       "      <td>3.750466e+06</td>\n",
       "      <td>0.000076</td>\n",
       "      <td>13234.515617</td>\n",
       "    </tr>\n",
       "    <tr>\n",
       "      <th>58</th>\n",
       "      <td>Guinea-Bissau</td>\n",
       "      <td>1.304336e+09</td>\n",
       "      <td>711.125659</td>\n",
       "      <td>299.666667</td>\n",
       "      <td>57.622945</td>\n",
       "      <td>1828601.6</td>\n",
       "      <td>9.278306e+05</td>\n",
       "      <td>9.007710e+05</td>\n",
       "      <td>0.000164</td>\n",
       "      <td>6102.025873</td>\n",
       "    </tr>\n",
       "    <tr>\n",
       "      <th>79</th>\n",
       "      <td>Liberia</td>\n",
       "      <td>3.351710e+09</td>\n",
       "      <td>713.237500</td>\n",
       "      <td>207.000000</td>\n",
       "      <td>63.250277</td>\n",
       "      <td>4703518.2</td>\n",
       "      <td>2.366556e+06</td>\n",
       "      <td>2.336962e+06</td>\n",
       "      <td>0.000044</td>\n",
       "      <td>22722.108612</td>\n",
       "    </tr>\n",
       "    <tr>\n",
       "      <th>29</th>\n",
       "      <td>Chad</td>\n",
       "      <td>1.072054e+10</td>\n",
       "      <td>714.221891</td>\n",
       "      <td>709.800000</td>\n",
       "      <td>53.706891</td>\n",
       "      <td>15022799.8</td>\n",
       "      <td>7.484186e+06</td>\n",
       "      <td>7.538614e+06</td>\n",
       "      <td>0.000047</td>\n",
       "      <td>21164.021164</td>\n",
       "    </tr>\n",
       "    <tr>\n",
       "      <th>23</th>\n",
       "      <td>Burkina Faso</td>\n",
       "      <td>1.416814e+10</td>\n",
       "      <td>735.437995</td>\n",
       "      <td>1522.200000</td>\n",
       "      <td>60.699121</td>\n",
       "      <td>19204610.2</td>\n",
       "      <td>9.649241e+06</td>\n",
       "      <td>9.555369e+06</td>\n",
       "      <td>0.000079</td>\n",
       "      <td>12616.704517</td>\n",
       "    </tr>\n",
       "    <tr>\n",
       "      <th>46</th>\n",
       "      <td>Ethiopia</td>\n",
       "      <td>8.016774e+10</td>\n",
       "      <td>750.695112</td>\n",
       "      <td>8395.000000</td>\n",
       "      <td>65.854702</td>\n",
       "      <td>106428395.4</td>\n",
       "      <td>5.289904e+07</td>\n",
       "      <td>5.352935e+07</td>\n",
       "      <td>0.000079</td>\n",
       "      <td>12677.484787</td>\n",
       "    </tr>\n",
       "    <tr>\n",
       "      <th>118</th>\n",
       "      <td>Rwanda</td>\n",
       "      <td>9.295778e+09</td>\n",
       "      <td>774.388316</td>\n",
       "      <td>1500.600000</td>\n",
       "      <td>68.293985</td>\n",
       "      <td>11989552.4</td>\n",
       "      <td>6.146507e+06</td>\n",
       "      <td>5.843045e+06</td>\n",
       "      <td>0.000125</td>\n",
       "      <td>7989.773090</td>\n",
       "    </tr>\n",
       "    <tr>\n",
       "      <th>144</th>\n",
       "      <td>Uganda</td>\n",
       "      <td>3.212315e+10</td>\n",
       "      <td>779.968950</td>\n",
       "      <td>9249.666667</td>\n",
       "      <td>62.408758</td>\n",
       "      <td>41207965.4</td>\n",
       "      <td>2.085055e+07</td>\n",
       "      <td>2.035742e+07</td>\n",
       "      <td>0.000224</td>\n",
       "      <td>4455.136773</td>\n",
       "    </tr>\n",
       "    <tr>\n",
       "      <th>140</th>\n",
       "      <td>Togo</td>\n",
       "      <td>6.188113e+09</td>\n",
       "      <td>799.936522</td>\n",
       "      <td>505.800000</td>\n",
       "      <td>60.475315</td>\n",
       "      <td>7700608.8</td>\n",
       "      <td>3.833404e+06</td>\n",
       "      <td>3.867204e+06</td>\n",
       "      <td>0.000066</td>\n",
       "      <td>15225.334957</td>\n",
       "    </tr>\n",
       "    <tr>\n",
       "      <th>87</th>\n",
       "      <td>Mali</td>\n",
       "      <td>1.536953e+10</td>\n",
       "      <td>827.213187</td>\n",
       "      <td>2174.500000</td>\n",
       "      <td>58.421020</td>\n",
       "      <td>18530485.4</td>\n",
       "      <td>9.170679e+06</td>\n",
       "      <td>9.359807e+06</td>\n",
       "      <td>0.000117</td>\n",
       "      <td>8521.516830</td>\n",
       "    </tr>\n",
       "    <tr>\n",
       "      <th>57</th>\n",
       "      <td>Guinea</td>\n",
       "      <td>1.061713e+10</td>\n",
       "      <td>874.075381</td>\n",
       "      <td>1580.333333</td>\n",
       "      <td>60.552185</td>\n",
       "      <td>12084716.8</td>\n",
       "      <td>6.136869e+06</td>\n",
       "      <td>5.947848e+06</td>\n",
       "      <td>0.000131</td>\n",
       "      <td>7647.013841</td>\n",
       "    </tr>\n",
       "    <tr>\n",
       "      <th>133</th>\n",
       "      <td>Sudan</td>\n",
       "      <td>3.855218e+10</td>\n",
       "      <td>952.534353</td>\n",
       "      <td>13264.000000</td>\n",
       "      <td>64.892442</td>\n",
       "      <td>40835709.6</td>\n",
       "      <td>2.042165e+07</td>\n",
       "      <td>2.041406e+07</td>\n",
       "      <td>0.000325</td>\n",
       "      <td>3078.722946</td>\n",
       "    </tr>\n",
       "    <tr>\n",
       "      <th>137</th>\n",
       "      <td>Syrian Arab Republic</td>\n",
       "      <td>1.784605e+10</td>\n",
       "      <td>1033.797732</td>\n",
       "      <td>22485.000000</td>\n",
       "      <td>71.536174</td>\n",
       "      <td>17314768.2</td>\n",
       "      <td>8.619828e+06</td>\n",
       "      <td>8.694940e+06</td>\n",
       "      <td>0.001299</td>\n",
       "      <td>770.060065</td>\n",
       "    </tr>\n",
       "  </tbody>\n",
       "</table>\n",
       "</div>"
      ],
      "text/plain": [
       "                      Country           GDP   Per Capita  \\\n",
       "24                    Burundi  2.777063e+09   257.387657   \n",
       "28   Central African Republic  2.006896e+09   434.875413   \n",
       "84                     Malawi  8.331166e+09   467.790419   \n",
       "95                 Mozambique  1.426752e+10   498.032076   \n",
       "83                 Madagascar  1.284253e+10   501.083962   \n",
       "0                 Afghanistan  1.857138e+10   512.909526   \n",
       "102                     Niger  1.139859e+10   525.392586   \n",
       "125              Sierra Leone  3.954916e+09   528.414539   \n",
       "58              Guinea-Bissau  1.304336e+09   711.125659   \n",
       "79                    Liberia  3.351710e+09   713.237500   \n",
       "29                       Chad  1.072054e+10   714.221891   \n",
       "23               Burkina Faso  1.416814e+10   735.437995   \n",
       "46                   Ethiopia  8.016774e+10   750.695112   \n",
       "118                    Rwanda  9.295778e+09   774.388316   \n",
       "144                    Uganda  3.212315e+10   779.968950   \n",
       "140                      Togo  6.188113e+09   799.936522   \n",
       "87                       Mali  1.536953e+10   827.213187   \n",
       "57                     Guinea  1.061713e+10   874.075381   \n",
       "133                     Sudan  3.855218e+10   952.534353   \n",
       "137      Syrian Arab Republic  1.784605e+10  1033.797732   \n",
       "\n",
       "     Medical doctors (number)  Life Expectancy  Average Population  \\\n",
       "24                 892.000000        60.875798          10836200.4   \n",
       "28                 329.500000        52.170470           4607686.2   \n",
       "84                1649.500000        63.283140          17678543.0   \n",
       "95                2407.666667        59.111772          28676598.0   \n",
       "83                5230.000000        66.303041          25586116.0   \n",
       "0                 9500.400000        64.149149          36261284.2   \n",
       "102                607.800000        61.577659          21629278.0   \n",
       "125                566.000000        53.833848           7490507.6   \n",
       "58                 299.666667        57.622945           1828601.6   \n",
       "79                 207.000000        63.250277           4703518.2   \n",
       "29                 709.800000        53.706891          15022799.8   \n",
       "23                1522.200000        60.699121          19204610.2   \n",
       "46                8395.000000        65.854702         106428395.4   \n",
       "118               1500.600000        68.293985          11989552.4   \n",
       "144               9249.666667        62.408758          41207965.4   \n",
       "140                505.800000        60.475315           7700608.8   \n",
       "87                2174.500000        58.421020          18530485.4   \n",
       "57                1580.333333        60.552185          12084716.8   \n",
       "133              13264.000000        64.892442          40835709.6   \n",
       "137              22485.000000        71.536174          17314768.2   \n",
       "\n",
       "     Female Polulation  Male Population  Medical Doctor Per Capita  \\\n",
       "24        5.460094e+06     5.376107e+06                   0.000082   \n",
       "28        2.301317e+06     2.306369e+06                   0.000072   \n",
       "84        9.093972e+06     8.584571e+06                   0.000093   \n",
       "95        1.462774e+07     1.404886e+07                   0.000084   \n",
       "83        1.275391e+07     1.283220e+07                   0.000204   \n",
       "0         1.792394e+07     1.833735e+07                   0.000262   \n",
       "102       1.066245e+07     1.096683e+07                   0.000028   \n",
       "125       3.740042e+06     3.750466e+06                   0.000076   \n",
       "58        9.278306e+05     9.007710e+05                   0.000164   \n",
       "79        2.366556e+06     2.336962e+06                   0.000044   \n",
       "29        7.484186e+06     7.538614e+06                   0.000047   \n",
       "23        9.649241e+06     9.555369e+06                   0.000079   \n",
       "46        5.289904e+07     5.352935e+07                   0.000079   \n",
       "118       6.146507e+06     5.843045e+06                   0.000125   \n",
       "144       2.085055e+07     2.035742e+07                   0.000224   \n",
       "140       3.833404e+06     3.867204e+06                   0.000066   \n",
       "87        9.170679e+06     9.359807e+06                   0.000117   \n",
       "57        6.136869e+06     5.947848e+06                   0.000131   \n",
       "133       2.042165e+07     2.041406e+07                   0.000325   \n",
       "137       8.619828e+06     8.694940e+06                   0.001299   \n",
       "\n",
       "     No.Patient Per Doctor  \n",
       "24            12147.716229  \n",
       "28            13984.058174  \n",
       "84            10716.964956  \n",
       "95            11910.433540  \n",
       "83             4892.128565  \n",
       "0              3816.793893  \n",
       "102           35587.188612  \n",
       "125           13234.515617  \n",
       "58             6102.025873  \n",
       "79            22722.108612  \n",
       "29            21164.021164  \n",
       "23            12616.704517  \n",
       "46            12677.484787  \n",
       "118            7989.773090  \n",
       "144            4455.136773  \n",
       "140           15225.334957  \n",
       "87             8521.516830  \n",
       "57             7647.013841  \n",
       "133            3078.722946  \n",
       "137             770.060065  "
      ]
     },
     "execution_count": 21,
     "metadata": {},
     "output_type": "execute_result"
    }
   ],
   "source": [
    "bottom_df = f_df.head(20)\n",
    "bottom_df"
   ]
  },
  {
   "cell_type": "code",
   "execution_count": 22,
   "id": "aaa29a1d",
   "metadata": {},
   "outputs": [
    {
     "data": {
      "text/plain": [
       "11462.985151976576"
      ]
     },
     "execution_count": 22,
     "metadata": {},
     "output_type": "execute_result"
    }
   ],
   "source": [
    "bottom_df['No.Patient Per Doctor'].mean()"
   ]
  },
  {
   "cell_type": "code",
   "execution_count": 23,
   "id": "56fb0e51",
   "metadata": {},
   "outputs": [],
   "source": [
    "#create a box plot demonstrating the top 20 and bottom 20 gpd country in comparision on life expectancy"
   ]
  },
  {
   "cell_type": "code",
   "execution_count": 24,
   "id": "d3f891b8",
   "metadata": {
    "scrolled": true
   },
   "outputs": [
    {
     "data": {
      "image/png": "[encoded data removed]",
      "text/plain": [
       "<Figure size 640x480 with 1 Axes>"
      ]
     },
     "metadata": {},
     "output_type": "display_data"
    }
   ],
   "source": [
    "fig1, ax1 = plt.subplots()\n",
    "ax1.set_ylabel('Life Expectancy')\n",
    "ax1.set_xlabel('GDP Per Capita')\n",
    "ax1.boxplot([top_df['Life Expectancy'], bottom_df['Life Expectancy']], labels = [\"Top 20 Country\", \"Bottom 20 Country\"])\n",
    "plt.gca().spines['top'].set_visible(False)\n",
    "plt.gca().spines['right'].set_visible(False)\n",
    "plt.gca().spines['bottom'].set_visible(False)\n",
    "\n",
    "plt.show()\n",
    "\n",
    "\n",
    "\n"
   ]
  },
  {
   "cell_type": "code",
   "execution_count": null,
   "id": "46596cd7",
   "metadata": {},
   "outputs": [],
   "source": []
  },
  {
   "cell_type": "code",
   "execution_count": 25,
   "id": "e5fbae4b",
   "metadata": {},
   "outputs": [],
   "source": [
    "#create a box plot demonstrating the top 20 and bottom 20 gpd country in comparision on medical doctors per capita"
   ]
  },
  {
   "cell_type": "code",
   "execution_count": 26,
   "id": "4d3eab6f",
   "metadata": {
    "scrolled": true
   },
   "outputs": [
    {
     "data": {
      "image/png": "[encoded data removed]",
      "text/plain": [
       "<Figure size 640x480 with 1 Axes>"
      ]
     },
     "metadata": {},
     "output_type": "display_data"
    }
   ],
   "source": [
    "fig1, ax1 = plt.subplots()\n",
    "ax1.set_ylabel('Medical Doctors Per Capita')\n",
    "ax1.set_xlabel('GDP Per Capita')\n",
    "ax1.boxplot([top_df['Medical Doctor Per Capita'], bottom_df['Medical Doctor Per Capita']], labels = [\"Top 20 Country\", \"Bottom 20 Country\"])\n",
    "plt.gca().spines['top'].set_visible(False)\n",
    "plt.gca().spines['right'].set_visible(False)\n",
    "plt.gca().spines['bottom'].set_visible(False)\n",
    "\n",
    "plt.show()"
   ]
  },
  {
   "cell_type": "code",
   "execution_count": 27,
   "id": "30a4e362",
   "metadata": {},
   "outputs": [],
   "source": [
    "#box plot for patients per doctor vs gpd for top and bottom 20 countries\n"
   ]
  },
  {
   "cell_type": "code",
   "execution_count": 28,
   "id": "cd50af69",
   "metadata": {},
   "outputs": [
    {
     "data": {
      "image/png": "[encoded data removed]",
      "text/plain": [
       "<Figure size 640x480 with 1 Axes>"
      ]
     },
     "metadata": {},
     "output_type": "display_data"
    }
   ],
   "source": [
    "fig1, ax1 = plt.subplots()\n",
    "ax1.set_ylabel('No.Patient Per Doctor')\n",
    "ax1.set_xlabel('GDP Per Capita')\n",
    "ax1.boxplot([top_df['No.Patient Per Doctor'], bottom_df['No.Patient Per Doctor']], labels = [\"Top 20 Country\", \"Bottom 20 Country\"])\n",
    "plt.gca().spines['top'].set_visible(False)\n",
    "plt.gca().spines['right'].set_visible(False)\n",
    "plt.gca().spines['bottom'].set_visible(False)\n",
    "\n",
    "plt.show()"
   ]
  },
  {
   "cell_type": "code",
   "execution_count": null,
   "id": "10bebce8",
   "metadata": {},
   "outputs": [],
   "source": []
  },
  {
   "cell_type": "code",
   "execution_count": null,
   "id": "30b16894",
   "metadata": {},
   "outputs": [],
   "source": []
  },
  {
   "cell_type": "code",
   "execution_count": 29,
   "id": "22577c14",
   "metadata": {
    "scrolled": false
   },
   "outputs": [
    {
     "data": {
      "text/html": [
       "<div>\n",
       "<style scoped>\n",
       "    .dataframe tbody tr th:only-of-type {\n",
       "        vertical-align: middle;\n",
       "    }\n",
       "\n",
       "    .dataframe tbody tr th {\n",
       "        vertical-align: top;\n",
       "    }\n",
       "\n",
       "    .dataframe thead th {\n",
       "        text-align: right;\n",
       "    }\n",
       "</style>\n",
       "<table border=\"1\" class=\"dataframe\">\n",
       "  <thead>\n",
       "    <tr style=\"text-align: right;\">\n",
       "      <th></th>\n",
       "      <th>Country</th>\n",
       "      <th>GDP</th>\n",
       "      <th>Per Capita</th>\n",
       "      <th>Medical doctors (number)</th>\n",
       "      <th>Life Expectancy</th>\n",
       "      <th>Average Population</th>\n",
       "      <th>Female Polulation</th>\n",
       "      <th>Male Population</th>\n",
       "      <th>Medical Doctor Per Capita</th>\n",
       "      <th>No.Patient Per Doctor</th>\n",
       "    </tr>\n",
       "  </thead>\n",
       "  <tbody>\n",
       "    <tr>\n",
       "      <th>24</th>\n",
       "      <td>Burundi</td>\n",
       "      <td>2.777063e+09</td>\n",
       "      <td>5.550583</td>\n",
       "      <td>892.000000</td>\n",
       "      <td>60.875798</td>\n",
       "      <td>10836200.4</td>\n",
       "      <td>5.460094e+06</td>\n",
       "      <td>5.376107e+06</td>\n",
       "      <td>0.000082</td>\n",
       "      <td>12147.716229</td>\n",
       "    </tr>\n",
       "    <tr>\n",
       "      <th>28</th>\n",
       "      <td>Central African Republic</td>\n",
       "      <td>2.006896e+09</td>\n",
       "      <td>6.075060</td>\n",
       "      <td>329.500000</td>\n",
       "      <td>52.170470</td>\n",
       "      <td>4607686.2</td>\n",
       "      <td>2.301317e+06</td>\n",
       "      <td>2.306369e+06</td>\n",
       "      <td>0.000072</td>\n",
       "      <td>13984.058174</td>\n",
       "    </tr>\n",
       "    <tr>\n",
       "      <th>84</th>\n",
       "      <td>Malawi</td>\n",
       "      <td>8.331166e+09</td>\n",
       "      <td>6.148020</td>\n",
       "      <td>1649.500000</td>\n",
       "      <td>63.283140</td>\n",
       "      <td>17678543.0</td>\n",
       "      <td>9.093972e+06</td>\n",
       "      <td>8.584571e+06</td>\n",
       "      <td>0.000093</td>\n",
       "      <td>10716.964956</td>\n",
       "    </tr>\n",
       "    <tr>\n",
       "      <th>95</th>\n",
       "      <td>Mozambique</td>\n",
       "      <td>1.426752e+10</td>\n",
       "      <td>6.210664</td>\n",
       "      <td>2407.666667</td>\n",
       "      <td>59.111772</td>\n",
       "      <td>28676598.0</td>\n",
       "      <td>1.462774e+07</td>\n",
       "      <td>1.404886e+07</td>\n",
       "      <td>0.000084</td>\n",
       "      <td>11910.433540</td>\n",
       "    </tr>\n",
       "    <tr>\n",
       "      <th>83</th>\n",
       "      <td>Madagascar</td>\n",
       "      <td>1.284253e+10</td>\n",
       "      <td>6.216774</td>\n",
       "      <td>5230.000000</td>\n",
       "      <td>66.303041</td>\n",
       "      <td>25586116.0</td>\n",
       "      <td>1.275391e+07</td>\n",
       "      <td>1.283220e+07</td>\n",
       "      <td>0.000204</td>\n",
       "      <td>4892.128565</td>\n",
       "    </tr>\n",
       "  </tbody>\n",
       "</table>\n",
       "</div>"
      ],
      "text/plain": [
       "                     Country           GDP  Per Capita  \\\n",
       "24                   Burundi  2.777063e+09    5.550583   \n",
       "28  Central African Republic  2.006896e+09    6.075060   \n",
       "84                    Malawi  8.331166e+09    6.148020   \n",
       "95                Mozambique  1.426752e+10    6.210664   \n",
       "83                Madagascar  1.284253e+10    6.216774   \n",
       "\n",
       "    Medical doctors (number)  Life Expectancy  Average Population  \\\n",
       "24                892.000000        60.875798          10836200.4   \n",
       "28                329.500000        52.170470           4607686.2   \n",
       "84               1649.500000        63.283140          17678543.0   \n",
       "95               2407.666667        59.111772          28676598.0   \n",
       "83               5230.000000        66.303041          25586116.0   \n",
       "\n",
       "    Female Polulation  Male Population  Medical Doctor Per Capita  \\\n",
       "24       5.460094e+06     5.376107e+06                   0.000082   \n",
       "28       2.301317e+06     2.306369e+06                   0.000072   \n",
       "84       9.093972e+06     8.584571e+06                   0.000093   \n",
       "95       1.462774e+07     1.404886e+07                   0.000084   \n",
       "83       1.275391e+07     1.283220e+07                   0.000204   \n",
       "\n",
       "    No.Patient Per Doctor  \n",
       "24           12147.716229  \n",
       "28           13984.058174  \n",
       "84           10716.964956  \n",
       "95           11910.433540  \n",
       "83            4892.128565  "
      ]
     },
     "execution_count": 29,
     "metadata": {},
     "output_type": "execute_result"
    }
   ],
   "source": [
    "f_df['Per Capita'] = np.log(f_df['Per Capita'])\n",
    "f_df.head()\n",
    "             "
   ]
  },
  {
   "cell_type": "code",
   "execution_count": 30,
   "id": "f0d04260",
   "metadata": {
    "scrolled": true
   },
   "outputs": [
    {
     "name": "stdout",
     "output_type": "stream",
     "text": [
      "The r value is 0.7036744908037691\n"
     ]
    },
    {
     "data": {
      "image/png": "[encoded data removed]",
      "text/plain": [
       "<Figure size 640x480 with 1 Axes>"
      ]
     },
     "metadata": {},
     "output_type": "display_data"
    }
   ],
   "source": [
    "f_df.plot(x='Per Capita', y='Life Expectancy', kind = 'scatter', \n",
    "           marker='o', color ='c',grid=True)\n",
    "\n",
    "x_values = f_df['Per Capita']\n",
    "y_values = f_df['Life Expectancy']\n",
    "(slope, intercept, rvalue, pvalue, stderr) = stats.linregress(x_values, y_values)\n",
    "regress_values = x_values * slope + intercept\n",
    "line_eq = \"y = \" + str(round(slope,6)) + \"x +\" + str(round(intercept,6))\n",
    "\n",
    "plt.plot(x_values,regress_values,color='r')\n",
    "plt.annotate(line_eq,(10,55),fontsize=10,color=\"r\")\n",
    "print(f\"The r value is {rvalue**2}\")\n"
   ]
  },
  {
   "cell_type": "code",
   "execution_count": 31,
   "id": "951a4a3e",
   "metadata": {},
   "outputs": [
    {
     "data": {
      "text/plain": [
       "0.8388530805831073"
      ]
     },
     "execution_count": 31,
     "metadata": {},
     "output_type": "execute_result"
    }
   ],
   "source": [
    "np.corrcoef(x_values, y_values)[0,1]\n"
   ]
  },
  {
   "cell_type": "code",
   "execution_count": 32,
   "id": "d8c99b8e",
   "metadata": {},
   "outputs": [
    {
     "name": "stdout",
     "output_type": "stream",
     "text": [
      "The r value is 0.5266820259163236\n"
     ]
    },
    {
     "data": {
      "image/png": "[encoded data removed]",
      "text/plain": [
       "<Figure size 640x480 with 1 Axes>"
      ]
     },
     "metadata": {},
     "output_type": "display_data"
    }
   ],
   "source": [
    "#GDP per capita affects the prevalence of medical doctors per region\n",
    "\n",
    "f_df.plot(x='Per Capita', y='Medical Doctor Per Capita', kind = 'scatter', \n",
    "           marker='o', color ='c',grid=True)\n",
    "\n",
    "x_values = f_df['Per Capita']\n",
    "y_values = f_df['Medical Doctor Per Capita']\n",
    "(slope, intercept, rvalue, pvalue, stderr) = stats.linregress(x_values, y_values)\n",
    "regress_values = x_values * slope + intercept\n",
    "line_eq = \"y = \" + str(round(slope,6)) + \"x +\" + str(round(intercept,6))\n",
    "\n",
    "plt.plot(x_values,regress_values,color='r')\n",
    "plt.annotate(line_eq,(80000,30000),fontsize=10,color=\"r\")\n",
    "print(f\"The r value is {rvalue**2}\")"
   ]
  },
  {
   "cell_type": "code",
   "execution_count": 33,
   "id": "1836ab45",
   "metadata": {},
   "outputs": [
    {
     "data": {
      "text/plain": [
       "0.7257286172642798"
      ]
     },
     "execution_count": 33,
     "metadata": {},
     "output_type": "execute_result"
    }
   ],
   "source": [
    "np.corrcoef(x_values, y_values)[0,1]\n"
   ]
  },
  {
   "cell_type": "markdown",
   "id": "bc2963e7",
   "metadata": {},
   "source": [
    "#                                                  Analysis\n"
   ]
  },
  {
   "cell_type": "markdown",
   "id": "0de19783",
   "metadata": {},
   "source": [
    "This notebook focused on the correlation between GDP per capita with the life expectancy and medical doctor per capita based on 149(filtered) country.\n",
    "\n",
    "By comparing the GDP per capita and life expectancy column, after perfroming a correlation hypothesis test (linear regression), it returns a correlation coeffient of 0.639, this indicates that a optimum positive relation between GDP and life expectancy, meaning the higher GDP per capita, the reletive life expectancy will be higher. \n",
    "\n",
    "The correlation test between the GDP per capita and medical doctors per captial returns a correlation coeffecient of 0.550, it also desmonstrate moderate amount of relaton between the two features. \n",
    "\n",
    "A new data frame was created to compare between the top 20 and bottom GDP percapita countries. The box plot graph demonstrated the difference of life expectancy and medical doctor per capita between these two group.\n",
    "The average life expectancy of the top 20 GDP per capita country is 82, and the average life expectancy of the bottom 20 GDP per capita country is 62, there is a 20 years difference!\n",
    "\n",
    "In terms of medical doctors per capital, since it is hard to visualize this data(the number has too many decimals),hence the number of patient per doctor column was created to better illustrate the data.\n",
    "\n",
    "The box plot graph demonstrate an average of 295 patient per doctor vs the 11462 patient per doctor between top and bottom 20 countries. Theres is over 30 times in difference in medical doctors avaiblable per person. \n",
    "\n",
    "In conclusion, it is obvious that counties with more GDP provide with more medical doctors per capita, and hence more life expectancy. However, since this anaylsis only compare GDP, medical doctors, and life expectancy, there are alot of more factors need to be included in future for a more accurate prediction, factors such as countries location, infrustructures, education, for a more accurate model to be built, alot of other aspects of correlations has to be adopted. "
   ]
  }
 ],
 "metadata": {
  "kernelspec": {
   "display_name": "Python 3 (ipykernel)",
   "language": "python",
   "name": "python3"
  },
  "language_info": {
   "codemirror_mode": {
    "name": "ipython",
    "version": 3
   },
   "file_extension": ".py",
   "mimetype": "text/x-python",
   "name": "python",
   "nbconvert_exporter": "python",
   "pygments_lexer": "ipython3",
   "version": "3.10.9"
  }
 },
 "nbformat": 4,
 "nbformat_minor": 5
}
